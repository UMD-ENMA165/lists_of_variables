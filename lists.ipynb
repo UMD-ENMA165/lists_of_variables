{
 "cells": [
  {
   "cell_type": "markdown",
   "id": "3f67aa53-709c-40a7-80fe-9632e45b45af",
   "metadata": {
    "tags": []
   },
   "source": [
    "# Lists and variables"
   ]
  },
  {
   "cell_type": "code",
   "execution_count": null,
   "id": "a98d1a73-0fa9-4e27-8c7e-23fc76c8e2da",
   "metadata": {},
   "outputs": [],
   "source": []
  }
 ],
 "metadata": {
  "kernelspec": {
   "display_name": "Python 3 (ipykernel)",
   "language": "python",
   "name": "python3"
  },
  "language_info": {
   "codemirror_mode": {
    "name": "ipython",
    "version": 3
   },
   "file_extension": ".py",
   "mimetype": "text/x-python",
   "name": "python",
   "nbconvert_exporter": "python",
   "pygments_lexer": "ipython3",
   "version": "3.11.5"
  }
 },
 "nbformat": 4,
 "nbformat_minor": 5
}
