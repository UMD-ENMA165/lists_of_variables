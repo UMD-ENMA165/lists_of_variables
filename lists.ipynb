{
 "cells": [
  {
   "cell_type": "markdown",
   "id": "3f67aa53-709c-40a7-80fe-9632e45b45af",
   "metadata": {
    "tags": []
   },
   "source": [
    "# Lists and variables"
   ]
  },
  {
   "cell_type": "code",
   "execution_count": 2,
   "id": "a98d1a73-0fa9-4e27-8c7e-23fc76c8e2da",
   "metadata": {},
   "outputs": [],
   "source": [
    "q = [1,2,3,4]"
   ]
  },
  {
   "cell_type": "code",
   "execution_count": 3,
   "id": "062f5561-c999-46c5-9427-9a5e384bb60e",
   "metadata": {},
   "outputs": [
    {
     "name": "stdout",
     "output_type": "stream",
     "text": [
      "[1, 2, 3, 4]\n"
     ]
    }
   ],
   "source": [
    "print(q)"
   ]
  },
  {
   "cell_type": "code",
   "execution_count": 1,
   "id": "96baa54b-6dbf-44f0-bbab-869a3385dfe1",
   "metadata": {},
   "outputs": [
    {
     "data": {
      "text/plain": [
       "[' ', 'a', ' ', 'b', ' ', 'c']"
      ]
     },
     "execution_count": 1,
     "metadata": {},
     "output_type": "execute_result"
    }
   ],
   "source": [
    "list(\" a b c\")"
   ]
  },
  {
   "cell_type": "code",
   "execution_count": 4,
   "id": "aead9c71-5fc5-419a-8e2e-466aa244ce57",
   "metadata": {},
   "outputs": [
    {
     "name": "stdout",
     "output_type": "stream",
     "text": [
      "2\n"
     ]
    }
   ],
   "source": [
    "print(q[1])"
   ]
  },
  {
   "cell_type": "code",
   "execution_count": 6,
   "id": "54d9cc8e-d81b-4f1e-beba-8ea3b7595122",
   "metadata": {},
   "outputs": [
    {
     "name": "stdout",
     "output_type": "stream",
     "text": [
      "1\n"
     ]
    }
   ],
   "source": [
    "print(q[0])"
   ]
  },
  {
   "cell_type": "code",
   "execution_count": 7,
   "id": "86a603c2-c4e1-4aa8-b89a-aea7e8c97185",
   "metadata": {},
   "outputs": [
    {
     "name": "stdout",
     "output_type": "stream",
     "text": [
      "4\n"
     ]
    },
    {
     "ename": "IndexError",
     "evalue": "list index out of range",
     "output_type": "error",
     "traceback": [
      "\u001b[1;31m---------------------------------------------------------------------------\u001b[0m",
      "\u001b[1;31mIndexError\u001b[0m                                Traceback (most recent call last)",
      "Cell \u001b[1;32mIn[7], line 1\u001b[0m\n\u001b[1;32m----> 1\u001b[0m \u001b[38;5;28mprint\u001b[39m(q[\u001b[38;5;241m3\u001b[39m]); \u001b[38;5;28mprint\u001b[39m(q[\u001b[38;5;241m4\u001b[39m])\n",
      "\u001b[1;31mIndexError\u001b[0m: list index out of range"
     ]
    }
   ],
   "source": [
    "print(q[3])"
   ]
  },
  {
   "cell_type": "code",
   "execution_count": 8,
   "id": "dfe5870d-d932-4245-bdac-c87e59970045",
   "metadata": {},
   "outputs": [
    {
     "name": "stdout",
     "output_type": "stream",
     "text": [
      "3\n"
     ]
    }
   ],
   "source": [
    "print(q[2])"
   ]
  },
  {
   "cell_type": "code",
   "execution_count": null,
   "id": "440f2c0d-ecac-4c89-9779-70772bc88f0f",
   "metadata": {},
   "outputs": [],
   "source": []
  }
 ],
 "metadata": {
  "kernelspec": {
   "display_name": "Python 3 (ipykernel)",
   "language": "python",
   "name": "python3"
  },
  "language_info": {
   "codemirror_mode": {
    "name": "ipython",
    "version": 3
   },
   "file_extension": ".py",
   "mimetype": "text/x-python",
   "name": "python",
   "nbconvert_exporter": "python",
   "pygments_lexer": "ipython3",
   "version": "3.11.5"
  }
 },
 "nbformat": 4,
 "nbformat_minor": 5
}
